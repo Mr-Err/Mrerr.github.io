{
 "cells": [
  {
   "attachments": {},
   "cell_type": "markdown",
   "metadata": {},
   "source": [
    "文档更新时间: 2024-07-03 11:40:00\n",
    "\n",
    "# 导入os模块\n",
    "若os模块不存在，则会出错，可尝试重新安装"
   ]
  },
  {
   "cell_type": "code",
   "execution_count": 2,
   "metadata": {},
   "outputs": [],
   "source": [
    "import os"
   ]
  },
  {
   "attachments": {},
   "cell_type": "markdown",
   "metadata": {},
   "source": [
    "# 查看当前工作目录"
   ]
  },
  {
   "cell_type": "code",
   "execution_count": 8,
   "metadata": {},
   "outputs": [
    {
     "name": "stdout",
     "output_type": "stream",
     "text": [
      "当前所在路径为： /home/Mrerr.github.io/source/_posts/computer/Python\n",
      "当前所在路径为： /home/Mrerr.github.io/source/_posts/computer/Python\n"
     ]
    }
   ],
   "source": [
    "print(\"当前所在路径为：\",os.getcwd())"
   ]
  },
  {
   "attachments": {},
   "cell_type": "markdown",
   "metadata": {},
   "source": [
    "# 更改工作目录"
   ]
  },
  {
   "cell_type": "code",
   "execution_count": null,
   "metadata": {},
   "outputs": [],
   "source": [
    "os.chdir(\"/root\")"
   ]
  },
  {
   "attachments": {},
   "cell_type": "markdown",
   "metadata": {},
   "source": [
    "# 返回目录下所有文件"
   ]
  },
  {
   "cell_type": "code",
   "execution_count": 6,
   "metadata": {},
   "outputs": [
    {
     "name": "stdout",
     "output_type": "stream",
     "text": [
      "当前目录下的文件有： ['Python_info.md', 'Python_install.md', 'Python_map.md', 'Python_moudle_os.ipynb', 'Python_Numpy.md', 'python_package.md', 'python_problem240420.md', 'python_problem2404201.md', 'Python_requests.md', 'Python_use.md']\n"
     ]
    }
   ],
   "source": [
    "print(\"当前目录下的文件有：\", os.listdir(os.getcwd()))"
   ]
  },
  {
   "attachments": {},
   "cell_type": "markdown",
   "metadata": {},
   "source": [
    "# 获取当前进程id"
   ]
  },
  {
   "cell_type": "code",
   "execution_count": 4,
   "metadata": {},
   "outputs": [
    {
     "name": "stdout",
     "output_type": "stream",
     "text": [
      "当前进程的 ID： 10741\n"
     ]
    }
   ],
   "source": [
    "print(\"当前进程的 ID：\", os.getpid())"
   ]
  },
  {
   "attachments": {},
   "cell_type": "markdown",
   "metadata": {},
   "source": [
    "# 获取当前父进程id"
   ]
  },
  {
   "cell_type": "code",
   "execution_count": 3,
   "metadata": {},
   "outputs": [
    {
     "name": "stdout",
     "output_type": "stream",
     "text": [
      "当前父进程的 ID： 6531\n"
     ]
    }
   ],
   "source": [
    "print(\"当前父进程的 ID：\", os.getppid())"
   ]
  }
 ],
 "metadata": {
  "kernelspec": {
   "display_name": "Python 3",
   "language": "python",
   "name": "python3"
  },
  "language_info": {
   "codemirror_mode": {
    "name": "ipython",
    "version": 3
   },
   "file_extension": ".py",
   "mimetype": "text/x-python",
   "name": "python",
   "nbconvert_exporter": "python",
   "pygments_lexer": "ipython3",
   "version": "3.12.2"
  },
  "orig_nbformat": 4,
  "vscode": {
   "interpreter": {
    "hash": "44573023aed38036c920091a754b1e9a01f1e9bcdd94cb6f5efde72b9f3d0b0b"
   }
  }
 },
 "nbformat": 4,
 "nbformat_minor": 2
}
